{
 "cells": [
  {
   "cell_type": "markdown",
   "id": "a12f6970",
   "metadata": {},
   "source": [
    "# Testing Shor's 3 Qubit Code"
   ]
  },
  {
   "cell_type": "markdown",
   "id": "1db9fe97",
   "metadata": {},
   "source": [
    "Test error correction tecniques on [Qibo](https://qibo.science/qibo/stable/index.html) library"
   ]
  },
  {
   "cell_type": "code",
   "execution_count": 1,
   "id": "60de7d97",
   "metadata": {},
   "outputs": [],
   "source": [
    "import numpy as np\n",
    "import matplotlib.pyplot as plt\n",
    "plt.style.use('dark_background')    # Use dark background for plots\n",
    "\n",
    "import qibo\n",
    "assert qibo.__version__ >= \"0.2.20\", \"This script requires qibo version 0.2.20 or higher.\"\n",
    "\n",
    "from qibo import Circuit\n",
    "from qibo.gates import *\n",
    "\n",
    "from qibo.ui import plot_circuit, plot_density_hist, visualize_state\n",
    "\n",
    "\n",
    "custom_style = {                    # Define a custom style for the circuit plot\n",
    "    \"facecolor\" : \"#000000\",\n",
    "    \"edgecolor\" : \"#ffffff\",\n",
    "    \"linecolor\" : \"#ffffff\",\n",
    "    \"textcolor\" : \"#ffffff\",\n",
    "    \"fillcolor\" : \"#c41b1b\",\n",
    "    \"gatecolor\" : \"#9000ff\",\n",
    "    \"controlcolor\" : \"#360000\"\n",
    "}"
   ]
  },
  {
   "cell_type": "markdown",
   "id": "cee6c6e3",
   "metadata": {},
   "source": [
    "We can define the *logical* qubit as a particular state of the system:\n",
    "\n",
    "$\\ket{0}_L = \\ket{000}$\n",
    "\n",
    "$\\ket{1}_L = \\ket{111}$\n",
    "\n",
    "Stybilizers are observables the maintain the logical qubit unvaried after a measurement:\n",
    "\n",
    "$S_1 = Z_1Z_2$\n",
    "\n",
    "$S_2 = Z_2Z_3$\n",
    "\n",
    "$S_1 \\ket{0}_L = \\ket{0}_L$"
   ]
  },
  {
   "cell_type": "markdown",
   "id": "3666efcb",
   "metadata": {},
   "source": [
    "## How do we measure the stabilizers?"
   ]
  },
  {
   "cell_type": "code",
   "execution_count": 2,
   "id": "82ed04e7",
   "metadata": {},
   "outputs": [],
   "source": [
    "def ZZ_measurement(circuit:Circuit, control_1:int, control_2:int, target:int):\n",
    "    \"\"\"Adds a ZZ stabilizer measurement to the circuit.\"\"\"\n",
    "\n",
    "    circuit.add(H(target))\n",
    "    circuit.add(CZ(control_1, target))\n",
    "    circuit.add(CZ(control_2, target))\n",
    "    circuit.add(H(target))\n",
    "    \n",
    "    return circuit"
   ]
  },
  {
   "cell_type": "markdown",
   "id": "8fda79a2",
   "metadata": {},
   "source": [
    "Let's visualize the stabilizer measurement circuit"
   ]
  },
  {
   "cell_type": "code",
   "execution_count": 3,
   "id": "e912bbf0",
   "metadata": {},
   "outputs": [
    {
     "data": {
      "text/plain": [
       "(<Axes: >, <Figure size 240x180 with 1 Axes>)"
      ]
     },
     "execution_count": 3,
     "metadata": {},
     "output_type": "execute_result"
    },
    {
     "data": {
      "image/png": "[encoded data removed]",
      "text/plain": [
       "<Figure size 240x180 with 1 Axes>"
      ]
     },
     "metadata": {},
     "output_type": "display_data"
    }
   ],
   "source": [
    "circuit = Circuit(3, wire_names=['q0', 'q1', 'a0'])  # 2 data qubits + 1 ancilla qubit\n",
    "\n",
    "ZZ_measurement(circuit, 0, 1, 2)  # Measure Z0Z1 stabilizer\n",
    "\n",
    "plot_circuit(circuit, style=custom_style)  # Plot the circuit with custom style"
   ]
  },
  {
   "cell_type": "markdown",
   "id": "91dbdaf3",
   "metadata": {},
   "source": [
    "### Test with errors"
   ]
  },
  {
   "cell_type": "code",
   "execution_count": 4,
   "id": "10845646",
   "metadata": {},
   "outputs": [
    {
     "name": "stderr",
     "output_type": "stream",
     "text": [
      "[Qibo 0.2.21|INFO|2025-09-25 23:41:03]: Using qibojit (numba) backend on /CPU:0\n"
     ]
    },
    {
     "name": "stdout",
     "output_type": "stream",
     "text": [
      "Error on qubit 0, Stabilizer measurements: {'Z0Z1': Counter({'1': 1000})}\n",
      "Error on qubit 1, Stabilizer measurements: {'Z0Z1': Counter({'1': 1000})}\n",
      "Error on qubit 2, Stabilizer measurements: {'Z0Z1': Counter({'1': 1000})}\n"
     ]
    }
   ],
   "source": [
    "for i in [0, 1, 2]:\n",
    "\n",
    "    circuit = Circuit(3, wire_names=['q0', 'q1', 'a0'])  # 3 data qubits + 2 ancilla qubits\n",
    "\n",
    "    circuit.add(X(i))  # Introduce an X error on qubit i\n",
    "    \n",
    "    ZZ_measurement(circuit, 0, 1, 2)  # Measure Z0Z1\n",
    "\n",
    "    circuit.add(M(2, register_name='Z0Z1'))  # Measure ancilla qubit\n",
    "\n",
    "    res = circuit(nshots=1000)\n",
    "\n",
    "    print(f\"Error on qubit {i}, Stabilizer measurements: {res.frequencies(registers=True)}\")\n"
   ]
  },
  {
   "cell_type": "markdown",
   "id": "b2729b66",
   "metadata": {},
   "source": [
    "### Conclusion:\n",
    "The ancilla registers a change in the system! But it's clear that a single Stabilizer can't give enough information to indentify the error position in the register."
   ]
  },
  {
   "cell_type": "markdown",
   "id": "e0279f33",
   "metadata": {},
   "source": [
    "## Complete Error Detection With Both Stabilizers"
   ]
  },
  {
   "cell_type": "code",
   "execution_count": 5,
   "id": "1b4e589a",
   "metadata": {},
   "outputs": [
    {
     "data": {
      "text/plain": [
       "(<Axes: >, <Figure size 660x300 with 1 Axes>)"
      ]
     },
     "execution_count": 5,
     "metadata": {},
     "output_type": "execute_result"
    },
    {
     "data": {
      "image/png": "[encoded data removed]",
      "text/plain": [
       "<Figure size 660x300 with 1 Axes>"
      ]
     },
     "metadata": {},
     "output_type": "display_data"
    }
   ],
   "source": [
    "def make_circuit(err_pos:int=0) -> Circuit:\n",
    "    \n",
    "    circuit = Circuit(5, wire_names=['q0', 'q1', 'q2', 'a0', 'a1'])\n",
    "    \n",
    "    circuit.add(CNOT(0, 1))\n",
    "    circuit.add(CNOT(0, 2))\n",
    "\n",
    "    circuit.add(X(err_pos))\n",
    "\n",
    "    ZZ_measurement(circuit, 0, 1, 3)        # Measure Z0Z1\n",
    "    circuit.add(M(3, register_name='Z0Z1'))\n",
    "\n",
    "    ZZ_measurement(circuit, 1, 2, 4)        # Measure Z1Z2\n",
    "    circuit.add(M(4, register_name='Z1Z2'))\n",
    "\n",
    "    return circuit\n",
    "\n",
    "\n",
    "plot_circuit(make_circuit(), style=custom_style, cluster_gates = True)  # Plot the circuit with custom style"
   ]
  },
  {
   "cell_type": "markdown",
   "id": "603d1795",
   "metadata": {},
   "source": [
    "## Simulate"
   ]
  },
  {
   "cell_type": "code",
   "execution_count": 6,
   "id": "12b78c97",
   "metadata": {},
   "outputs": [
    {
     "name": "stdout",
     "output_type": "stream",
     "text": [
      "Error on qubit 0, Stabilizer measurements: {'Z0Z1': Counter({'1': 1000}), 'Z1Z2': Counter({'0': 1000})}\n",
      "Error on qubit 1, Stabilizer measurements: {'Z0Z1': Counter({'1': 1000}), 'Z1Z2': Counter({'1': 1000})}\n",
      "Error on qubit 2, Stabilizer measurements: {'Z0Z1': Counter({'0': 1000}), 'Z1Z2': Counter({'1': 1000})}\n"
     ]
    }
   ],
   "source": [
    "for i in [0, 1, 2]:\n",
    "\n",
    "    circ = make_circuit(err_pos=i)\n",
    "\n",
    "    res = circ(nshots=1000)\n",
    "\n",
    "    print(f\"Error on qubit {i}, Stabilizer measurements: {res.frequencies(registers=True)}\")"
   ]
  },
  {
   "cell_type": "markdown",
   "id": "062503a0",
   "metadata": {},
   "source": [
    "### Conclusion:\n",
    "\n",
    "We can safely identify the position of the error!\n",
    "\n",
    "We can even create a table for decyphering the error position. \n",
    "If we define measurement **'0'** as parity **+1** and measurement **'1'** as parity **-1** we get the following table:\n",
    "\n",
    "| Pauli Error | $S_1$ = Z₁Z₂ | $S_2$ = Z₂Z₃ |\n",
    "|------------------------|------------|------------|\n",
    "| No Error               | +1         | +1         |\n",
    "| $X_0$                     | -1         | +1         |\n",
    "| $X_1$                   | -1         | -1         |\n",
    "| $X_2$                     | +1         | -1         |\n"
   ]
  }
 ],
 "metadata": {
  "kernelspec": {
   "display_name": ".venv",
   "language": "python",
   "name": "python3"
  },
  "language_info": {
   "codemirror_mode": {
    "name": "ipython",
    "version": 3
   },
   "file_extension": ".py",
   "mimetype": "text/x-python",
   "name": "python",
   "nbconvert_exporter": "python",
   "pygments_lexer": "ipython3",
   "version": "3.12.3"
  }
 },
 "nbformat": 4,
 "nbformat_minor": 5
}
